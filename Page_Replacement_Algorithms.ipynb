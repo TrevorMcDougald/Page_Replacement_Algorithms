{
 "cells": [
  {
   "cell_type": "code",
   "execution_count": 16,
   "outputs": [],
   "source": [
    "from random import randint"
   ],
   "metadata": {
    "collapsed": false,
    "pycharm": {
     "name": "#%%\n",
     "is_executing": false
    }
   }
  },
  {
   "cell_type": "code",
   "execution_count": 24,
   "outputs": [],
   "source": [
    "number_of_pages = 20\n",
    "reference_string = [randint(1, 5) for n in range(0, number_of_pages)]\n",
    "TOTAL_FRAMES = 3"
   ],
   "metadata": {
    "collapsed": false,
    "pycharm": {
     "name": "#%%\n",
     "is_executing": false
    }
   }
  },
  {
   "cell_type": "code",
   "execution_count": 25,
   "outputs": [
    {
     "name": "stdout",
     "text": [
      "[1, 3, 1, 3, 5, 5, 1, 2, 2, 5, 2, 2, 1, 3, 5, 4, 2, 2, 4, 1]\n"
     ],
     "output_type": "stream"
    }
   ],
   "source": [
    "print(reference_string)\n"
   ],
   "metadata": {
    "collapsed": false,
    "pycharm": {
     "name": "#%%\n",
     "is_executing": false
    }
   }
  },
  {
   "cell_type": "code",
   "execution_count": 26,
   "outputs": [],
   "source": [
    "def optimal(total_frames, reference_string):\n",
    "    \"\"\"Implementation of the Optimal page replacement algorithm\n",
    "        - Replace the page that will not be used for the longest period of time\"\"\"\n",
    "    frames_to_use = total_frames\n",
    "    optimal_frames = []  # Simulated frames array in memory\n",
    "    optimal_faults = 0  # The number of page faults that have occurred\n",
    "    pages_in_memory = 0  # The number of unused pages in memory\n",
    "\n",
    "    # Parse through the Frames\n",
    "    for frame in range(frames_to_use):\n",
    "        optimal_frames.append(-1)\n",
    "\n",
    "    # Parse through the reference string\n",
    "    for page in range(len(reference_string)):\n",
    "        # print (page, optimal_frames)\n",
    "\n",
    "        # Flag for if the page is in the frame already\n",
    "        in_frame = False\n",
    "\n",
    "        for j in range(frames_to_use):\n",
    "            if (\n",
    "                optimal_frames[j] == reference_string[page]\n",
    "            ):  # Not a fault as it is in optimal_frames already (a hit)\n",
    "                in_frame = True\n",
    "                break\n",
    "\n",
    "        if not in_frame:\n",
    "            if (\n",
    "                pages_in_memory >= frames_to_use\n",
    "            ):  # A fault since there is no space and it is in optimal_frames (a miss)\n",
    "                furthest_current_in_memory = 0\n",
    "                item_to_remove = 0\n",
    "\n",
    "                for j in range(\n",
    "                    len(optimal_frames)\n",
    "                ):  # Loop through items currently in memory\n",
    "                    found_item_in_future_reference_string = False\n",
    "\n",
    "                    for k in range(\n",
    "                        page, len(reference_string)\n",
    "                    ):  # Loop through rest of string\n",
    "                        if optimal_frames[j] == reference_string[k]:\n",
    "                            found_item_in_future_reference_string = True\n",
    "                            if k > furthest_current_in_memory:\n",
    "                                furthest_current_in_memory = k\n",
    "                                item_to_remove = j\n",
    "                                break  # Only find the first next occurrence of the item in memory\n",
    "                    if not found_item_in_future_reference_string:\n",
    "                        item_to_remove = j\n",
    "                        break\n",
    "                optimal_frames[item_to_remove] = reference_string[page]\n",
    "            else:\n",
    "                optimal_frames[pages_in_memory] = reference_string[page]\n",
    "                pages_in_memory += 1\n",
    "            optimal_faults += 1\n",
    "    return optimal_faults\n"
   ],
   "metadata": {
    "collapsed": false,
    "pycharm": {
     "name": "#%%\n",
     "is_executing": false
    }
   }
  },
  {
   "cell_type": "code",
   "execution_count": 33,
   "outputs": [],
   "source": [
    "def least_recently_used(total_frames, reference_string):\n",
    "    frames_to_use = total_frames\n",
    "    pages_in_memory = 0\n",
    "    LRU_faults = 0\n",
    "    LRU_frames = []\n",
    "    \n",
    "    for frames in range(frames_to_use):\n",
    "        LRU_frames.append(-1)\n",
    "\n",
    "    for i in range(frames_to_use):\n",
    "        in_LRU_frame = 0\n",
    "        for j in range(fra):\n",
    "            if LRU_frames[j] == reference_string[i]:\n",
    "                in_LRU_frame = 1\n",
    "                break\n",
    "            \n",
    "        if in_LRU_frame == 0:\n",
    "            if LRU_frames[pages_in_memory] != -1:\n",
    "                oldest_possible = 999\n",
    "                for k in range(frames_to_use):\n",
    "                    in_LRU_frame = 0\n",
    "                    j =  i\n",
    "                    while j>=0:\n",
    "                        j-=1\n",
    "                        if LRU_frames[k] == reference_string[j]:\n",
    "                            in_LRU_frame = 1\n",
    "                            break\n",
    "                    if in_LRU_frame == 1 and oldest_possible > j:\n",
    "                        oldest_possible = j\n",
    "                        pages_in_memory = k\n",
    "\n",
    "            LRU_frames[pages_in_memory] = reference_string[i]\n",
    "            pages_in_memory=(pages_in_memory+1)%frames_to_use\n",
    "            LRU_faults+=1\n",
    "            print (\"\\n%d ->\" % (reference_string[i]), end=' ')\n",
    "            for j in range(frames_to_use):\n",
    "                if LRU_frames[j] != -1:\n",
    "                    print (LRU_frames[j], end=' ')\n",
    "                else:\n",
    "                    print (\"-\", end=' ')\n",
    "        else:\n",
    "            print (\"\\n%d -> No Page Fault\" % (reference_string[i]), end=' ')\n",
    "            \n",
    "    print (\"\\n Total LRU_frames faults : %d.\" % LRU_faults)"
   ],
   "metadata": {
    "collapsed": false,
    "pycharm": {
     "name": "#%%\n",
     "is_executing": false
    }
   }
  },
  {
   "cell_type": "code",
   "execution_count": 34,
   "outputs": [
    {
     "traceback": [
      "\u001b[1;31m---------------------------------------------------------------------------\u001b[0m",
      "\u001b[1;31mIndexError\u001b[0m                                Traceback (most recent call last)",
      "\u001b[1;32m<ipython-input-34-7a6a323873c8>\u001b[0m in \u001b[0;36m<module>\u001b[1;34m\u001b[0m\n\u001b[1;32m----> 1\u001b[1;33m \u001b[0mprint\u001b[0m\u001b[1;33m(\u001b[0m\u001b[0mleast_recently_used\u001b[0m\u001b[1;33m(\u001b[0m\u001b[0mTOTAL_FRAMES\u001b[0m\u001b[1;33m,\u001b[0m \u001b[0mreference_string\u001b[0m\u001b[1;33m)\u001b[0m\u001b[1;33m)\u001b[0m\u001b[1;33m\u001b[0m\u001b[1;33m\u001b[0m\u001b[0m\n\u001b[0m\u001b[0;32m      2\u001b[0m \u001b[1;33m\u001b[0m\u001b[0m\n\u001b[0;32m      3\u001b[0m \u001b[1;33m\u001b[0m\u001b[0m\n",
      "\u001b[1;32m<ipython-input-33-8c8f016bfa1c>\u001b[0m in \u001b[0;36mleast_recently_used\u001b[1;34m(total_frames, reference_string)\u001b[0m\n\u001b[0;32m     11\u001b[0m         \u001b[0mflag\u001b[0m \u001b[1;33m=\u001b[0m \u001b[1;36m0\u001b[0m\u001b[1;33m\u001b[0m\u001b[1;33m\u001b[0m\u001b[0m\n\u001b[0;32m     12\u001b[0m         \u001b[1;32mfor\u001b[0m \u001b[0mj\u001b[0m \u001b[1;32min\u001b[0m \u001b[0mrange\u001b[0m\u001b[1;33m(\u001b[0m\u001b[0mlen\u001b[0m\u001b[1;33m(\u001b[0m\u001b[0mreference_string\u001b[0m\u001b[1;33m)\u001b[0m\u001b[1;33m)\u001b[0m\u001b[1;33m:\u001b[0m\u001b[1;33m\u001b[0m\u001b[1;33m\u001b[0m\u001b[0m\n\u001b[1;32m---> 13\u001b[1;33m             \u001b[1;32mif\u001b[0m \u001b[0mLRU_frames\u001b[0m\u001b[1;33m[\u001b[0m\u001b[0mj\u001b[0m\u001b[1;33m]\u001b[0m \u001b[1;33m==\u001b[0m \u001b[0mreference_string\u001b[0m\u001b[1;33m[\u001b[0m\u001b[0mi\u001b[0m\u001b[1;33m]\u001b[0m\u001b[1;33m:\u001b[0m\u001b[1;33m\u001b[0m\u001b[1;33m\u001b[0m\u001b[0m\n\u001b[0m\u001b[0;32m     14\u001b[0m                 \u001b[0mflag\u001b[0m \u001b[1;33m=\u001b[0m \u001b[1;36m1\u001b[0m\u001b[1;33m\u001b[0m\u001b[1;33m\u001b[0m\u001b[0m\n\u001b[0;32m     15\u001b[0m                 \u001b[1;32mbreak\u001b[0m\u001b[1;33m\u001b[0m\u001b[1;33m\u001b[0m\u001b[0m\n",
      "\u001b[1;31mIndexError\u001b[0m: list index out of range"
     ],
     "ename": "IndexError",
     "evalue": "list index out of range",
     "output_type": "error"
    }
   ],
   "source": [
    "print(least_recently_used(TOTAL_FRAMES, reference_string))\n"
   ],
   "metadata": {
    "collapsed": false,
    "pycharm": {
     "name": "#%%\n",
     "is_executing": false
    }
   }
  },
  {
   "cell_type": "code",
   "execution_count": 27,
   "outputs": [
    {
     "name": "stdout",
     "text": [
      "8\n"
     ],
     "output_type": "stream"
    }
   ],
   "source": [
    "print(optimal(TOTAL_FRAMES, reference_string))\n",
    "\n"
   ],
   "metadata": {
    "collapsed": false,
    "pycharm": {
     "name": "#%%\n",
     "is_executing": false
    }
   }
  }
 ],
 "metadata": {
  "language_info": {
   "codemirror_mode": {
    "name": "ipython",
    "version": 2
   },
   "file_extension": ".py",
   "mimetype": "text/x-python",
   "name": "python",
   "nbconvert_exporter": "python",
   "pygments_lexer": "ipython2",
   "version": "2.7.6"
  },
  "kernelspec": {
   "name": "python3",
   "language": "python",
   "display_name": "Python 3"
  },
  "pycharm": {
   "stem_cell": {
    "cell_type": "raw",
    "source": [],
    "metadata": {
     "collapsed": false
    }
   }
  }
 },
 "nbformat": 4,
 "nbformat_minor": 0
}