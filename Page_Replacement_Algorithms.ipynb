{
 "cells": [
  {
   "cell_type": "code",
   "execution_count": 1,
   "outputs": [],
   "source": [
    "from random import randint"
   ],
   "metadata": {
    "collapsed": false,
    "pycharm": {
     "name": "#%%\n",
     "is_executing": false
    }
   }
  },
  {
   "cell_type": "code",
   "execution_count": 2,
   "outputs": [],
   "source": [
    "number_of_pages = 10\n",
    "reference_string = [randint(1, 5) for n in range(0, number_of_pages)]\n",
    "TOTAL_FRAMES = 3"
   ],
   "metadata": {
    "collapsed": false,
    "pycharm": {
     "name": "#%%\n",
     "is_executing": false
    }
   }
  },
  {
   "cell_type": "code",
   "execution_count": 3,
   "outputs": [
    {
     "name": "stdout",
     "text": [
      "Reference String: [1, 2, 2, 3, 1, 4, 4, 3, 3, 3]\n"
     ],
     "output_type": "stream"
    }
   ],
   "source": [
    "print(\"Reference String: \", end=\"\")\n",
    "print(reference_string, end=\"\\n\")\n"
   ],
   "metadata": {
    "collapsed": false,
    "pycharm": {
     "name": "#%%\n",
     "is_executing": false
    }
   }
  },
  {
   "cell_type": "code",
   "execution_count": 5,
   "outputs": [],
   "source": [
    "def optimal(total_frames, reference_string):\n",
    "    # Number of frames in the working set\n",
    "    frames_to_use = total_frames\n",
    "\n",
    "    # Array of frames to be dynamically interchanged\n",
    "    optimal_frames = []\n",
    "    # The number of optimal page faults\n",
    "    optimal_faults = 0\n",
    "    # The number of pages swapped into the page frame\n",
    "    pages_in_memory = 0\n",
    "\n",
    "    # Parse through the Frames\n",
    "    for frame in range(frames_to_use):\n",
    "        optimal_frames.append(-1)\n",
    "\n",
    "    # Parse through the reference string\n",
    "    for page in range(len(reference_string)):\n",
    "\n",
    "        # Flag for if the page is in the frame\n",
    "        in_optimal_memory = False\n",
    "\n",
    "        # Parse through the frames in the FIFO_frames\n",
    "        for frame in range(frames_to_use):\n",
    "            if (\n",
    "                optimal_frames[frame] == reference_string[page]\n",
    "            ):  # Hit because the page is in the frame already\n",
    "                in_optimal_memory = True\n",
    "\n",
    "                print(f\"\\n{reference_string[page]:d} ->\", end=\" \")\n",
    "                for frame in range(frames_to_use):\n",
    "                    if optimal_frames[frame] != -1:\n",
    "                        print(\"[\", optimal_frames[frame], \"]\", end=\" \")\n",
    "                    else:\n",
    "                        print(\"[ - ]\", end=\" \")\n",
    "                print(\" Hit\", end=\"\")\n",
    "                break\n",
    "\n",
    "        if not in_optimal_memory:\n",
    "            if (\n",
    "                pages_in_memory >= frames_to_use\n",
    "            ):  # Page fault, there's no space in frame and reference page needs to\n",
    "                # be swapped in.\n",
    "\n",
    "                # Field to hold the index for furthest away\n",
    "                furthest_in_reference_string = 0\n",
    "                # Field for page that is going to be removed.\n",
    "                page_to_remove = 0\n",
    "\n",
    "                # Parse through the working set\n",
    "                for frame in range(\n",
    "                    len(optimal_frames)\n",
    "                ):  # Loop through items currently in FIFO_frames\n",
    "                    is_page_used_in_short_time = False\n",
    "\n",
    "                    # Look at future page request in reference string\n",
    "                    for future_page in range(\n",
    "                        page, len(reference_string)\n",
    "                    ):  # If the current page in set matches a future page\n",
    "                        if optimal_frames[frame] == reference_string[future_page]:\n",
    "                            # Set the flag for page is used to true\n",
    "                            is_page_used_in_short_time = True\n",
    "                            # Check if this is the furthest future reference away\n",
    "                            if future_page > furthest_in_reference_string:\n",
    "                                # (swap if it is)\n",
    "                                furthest_in_reference_string = future_page\n",
    "                                page_to_remove = frame\n",
    "                                break\n",
    "                    # If the page isn't found in future FIFO_frames at all\n",
    "                    if not is_page_used_in_short_time:\n",
    "                        page_to_remove = frame\n",
    "                        break\n",
    "                #  remove the frame\n",
    "                optimal_frames[page_to_remove] = reference_string[page]\n",
    "\n",
    "                print(f\"\\n{reference_string[page]:d} ->\", end=\" \")\n",
    "                for frame in range(frames_to_use):\n",
    "                    if optimal_frames[page_to_remove] != -1:\n",
    "                        print(\"[\", optimal_frames[page_to_remove], \"]\", end=\" \")\n",
    "                    else:\n",
    "                        print(\"[ - ]\", end=\" \")\n",
    "                print(\" Miss\", end=\"\")\n",
    "\n",
    "            # Set of frames aren't full yet\n",
    "            else:\n",
    "                optimal_frames[pages_in_memory] = reference_string[page]\n",
    "                pages_in_memory += 1\n",
    "                print(f\"\\n{reference_string[page]:d} ->\", end=\" \")\n",
    "                for frame in range(frames_to_use):\n",
    "                    if optimal_frames[frame] != -1:\n",
    "                        print(\"[\", optimal_frames[frame], \"]\", end=\" \")\n",
    "                    else:\n",
    "                        print(\"[ - ]\", end=\" \")\n",
    "                print(\" Miss\", end=\"\")\n",
    "            optimal_faults += 1\n",
    "    return optimal_faults\n"
   ],
   "metadata": {
    "collapsed": false,
    "pycharm": {
     "name": "#%%\n",
     "is_executing": false
    }
   }
  },
  {
   "cell_type": "code",
   "execution_count": 6,
   "outputs": [],
   "source": [
    "def least_recently_used(total_frames, reference_string):\n",
    "    # The amount of frames in the working set\n",
    "    frames_to_use = total_frames\n",
    "\n",
    "    # The number of pages that have been put into FIFO_frames (starts at 0)\n",
    "    pages_in_memory = 0\n",
    "\n",
    "    # The number of faults for the LRU algorithm\n",
    "    LRU_faults = 0\n",
    "\n",
    "    # The LRU FIFO_frames frames\n",
    "    LRU_frames = []\n",
    "\n",
    "    # Initialize the set of frames that are dynamically changed.\n",
    "    for frames in range(frames_to_use):\n",
    "        LRU_frames.append(-1)\n",
    "\n",
    "    # Parse through the reference string\n",
    "    for page in range(len(reference_string)):\n",
    "        # Flag for if the page is in the FIFO_frames\n",
    "        in_LRU_memory = False\n",
    "\n",
    "        # Parse through the frame (MM)\n",
    "        for frame in range(frames_to_use):\n",
    "            # If the page is found in the FIFO_frames..\n",
    "            if LRU_frames[frame] == reference_string[page]:\n",
    "                in_LRU_memory = True  # Set the in FIFO_frames flag to TRUE\n",
    "                break\n",
    "\n",
    "        #  If the page was not found in the MM frame,\n",
    "        #  NEED TO SWAP OUT LRU, SWAP IN RF PAGE\n",
    "        if in_LRU_memory is False:\n",
    "            # If the page frame is full\n",
    "            if LRU_frames[pages_in_memory] is not -1:\n",
    "                # Farthest possible swap to look at\n",
    "                oldest_page = 999\n",
    "                # Parse through the pages swapped in previously\n",
    "                for past_swap in range(frames_to_use):\n",
    "                    # Found in the page frame set to False\n",
    "                    in_LRU_memory = False\n",
    "                    # Go backwards from the current page to the first page in the\n",
    "                    # reference string\n",
    "                    frame = page\n",
    "                    # Go backwards through swapped pages until the first page is reached\n",
    "                    while frame >= 0:\n",
    "                        frame -= 1\n",
    "                        # If the previously swapped page was previously in the reference\n",
    "                        # string\n",
    "                        if LRU_frames[past_swap] == reference_string[frame]:\n",
    "                            in_LRU_memory = True\n",
    "                            break\n",
    "                    # If it's in the working set and less than the oldest page\n",
    "                    if in_LRU_memory is True and frame < oldest_page:\n",
    "                        # This page in the frame becomes the new oldest_page\n",
    "                        oldest_page = frame\n",
    "                        # Prepare to swap oldest page for\n",
    "                        pages_in_memory = past_swap\n",
    "\n",
    "            # When the Frame is -1... set the frame equal to the reference page\n",
    "            LRU_frames[pages_in_memory] = reference_string[page]\n",
    "            # Recalculate the number of pages in working set (0, 1, 2,... n-1)\n",
    "            pages_in_memory = (pages_in_memory + 1) % frames_to_use\n",
    "            # Record the page fault\n",
    "            LRU_faults += 1\n",
    "            # Print\n",
    "            print(f\"\\n{reference_string[page]:d} ->\", end=\" \")\n",
    "            for frame in range(frames_to_use):\n",
    "                if LRU_frames[frame] != -1:\n",
    "                    print(\"[\", LRU_frames[frame], \"]\", end=\" \")\n",
    "                else:\n",
    "                    print(\"[ - ]\", end=\" \")\n",
    "            print(\" Miss\", end=\"\")\n",
    "        else:\n",
    "            print(f\"\\n{reference_string[page]:d} ->\", end=\" \")\n",
    "            for frame in range(frames_to_use):\n",
    "                if LRU_frames[frame] != -1:\n",
    "                    print(\"[\", LRU_frames[frame], \"]\", end=\" \")\n",
    "                else:\n",
    "                    print(\"[ - ]\", end=\" \")\n",
    "            print(\" Hit\", end=\"\")\n",
    "    return LRU_faults\n"
   ],
   "metadata": {
    "collapsed": false,
    "pycharm": {
     "name": "#%%\n",
     "is_executing": false
    }
   }
  },
  {
   "cell_type": "code",
   "execution_count": 7,
   "outputs": [],
   "source": [
    "\n",
    "def first_in_first_out(total_frames, reference_string):\n",
    "\n",
    "    frames_to_use = total_frames\n",
    "\n",
    "    # Set of pages to be dynamically swapped out with MM\n",
    "    FIFO_frames = []\n",
    "    # Number of page faults for the FIFO algorithm\n",
    "    FIFO_faults = 0\n",
    "    pages_in_memory = 0\n",
    "\n",
    "    # index for the page that is replaced\n",
    "    first_page_in = -1\n",
    "\n",
    "    for frame in range(total_frames):\n",
    "        FIFO_frames.append(-1)\n",
    "\n",
    "    for page in range(len(reference_string)):\n",
    "        # Flag for if the page is in the working set\n",
    "        in_memory = False\n",
    "\n",
    "        # Parse through the frames\n",
    "        for frame in range(total_frames):\n",
    "            # No page fault, reference page is found in the memory\n",
    "            if FIFO_frames[frame] == reference_string[page]:\n",
    "                print(f\"\\n{reference_string[page]:d} ->\", end=\" \")\n",
    "                for frame in range(frames_to_use):\n",
    "                    if FIFO_frames[frame] != -1:\n",
    "                        print(\"[\", FIFO_frames[frame], \"]\", end=\" \")\n",
    "                    else:\n",
    "                        print(\"[ - ]\", end=\" \")\n",
    "                print(\" Hit\", end=\"\")\n",
    "                in_memory = True\n",
    "                break\n",
    "            # Page fault, the requested page isn't in page frame\n",
    "        if not in_memory:\n",
    "            first_page_in = (\n",
    "                first_page_in + 1\n",
    "            ) % total_frames  # Ensure the first_page_in doesn't run past\n",
    "            # total_frames of FIFO_frames\n",
    "            FIFO_frames[first_page_in] = reference_string[page]\n",
    "\n",
    "            print(f\"\\n{reference_string[page]:d} ->\", end=\" \")\n",
    "            for frame in range(frames_to_use):\n",
    "                if FIFO_frames[frame] != -1:\n",
    "                    print(\"[\", FIFO_frames[frame], \"]\", end=\" \")\n",
    "                else:\n",
    "                    print(\"[ - ]\", end=\" \")\n",
    "            print(\" Miss\", end=\"\")\n",
    "\n",
    "            # if pages_in_memory>=total_frames: # A fault since there is no space and it is in FIFO_frames (a miss)\n",
    "            FIFO_faults += 1\n",
    "            pages_in_memory += 1\n",
    "    return FIFO_faults\n"
   ],
   "metadata": {
    "collapsed": false,
    "pycharm": {
     "name": "#%%\n",
     "is_executing": false
    }
   }
  },
  {
   "cell_type": "code",
   "execution_count": 8,
   "outputs": [
    {
     "name": "stdout",
     "text": [
      "\n\t\tOptimal Page Replacement Algorithm: \n\n1 -> [ 1 ] [ - ] [ - ]  Miss\n2 -> [ 1 ] [ 2 ] [ - ]  Miss\n2 -> [ 1 ] [ 2 ] [ - ]  Hit\n3 -> [ 1 ] [ 2 ] [ 3 ]  Miss\n1 -> [ 1 ] [ 2 ] [ 3 ]  Hit\n4 -> [ 4 ] [ 4 ] [ 4 ]  Miss\n4 -> [ 4 ] [ 2 ] [ 3 ]  Hit\n3 -> [ 4 ] [ 2 ] [ 3 ]  Hit\n3 -> [ 4 ] [ 2 ] [ 3 ]  Hit\n3 -> [ 4 ] [ 2 ] [ 3 ]  Hit"
     ],
     "output_type": "stream"
    }
   ],
   "source": [
    "print(\"\\n\\t\\tOptimal Page Replacement Algorithm: \")\n",
    "optimal_algo_faults = optimal(TOTAL_FRAMES, reference_string)"
   ],
   "metadata": {
    "collapsed": false,
    "pycharm": {
     "name": "#%%\n",
     "is_executing": false
    }
   }
  },
  {
   "cell_type": "code",
   "execution_count": 9,
   "outputs": [
    {
     "name": "stdout",
     "text": [
      "\n\n\t\tLeast Recently Used Page Replacement Algorithm: \n\n1 -> [ 1 ] [ - ] [ - ]  Miss\n2 -> [ 1 ] [ 2 ] [ - ]  Miss\n2 -> [ 1 ] [ 2 ] [ - ]  Hit\n3 -> [ 1 ] [ 2 ] [ 3 ]  Miss\n1 -> [ 1 ] [ 2 ] [ 3 ]  Hit\n4 -> [ 1 ] [ 4 ] [ 3 ]  Miss\n4 -> [ 1 ] [ 4 ] [ 3 ]  Hit\n3 -> [ 1 ] [ 4 ] [ 3 ]  Hit\n3 -> [ 1 ] [ 4 ] [ 3 ]  Hit\n3 -> [ 1 ] [ 4 ] [ 3 ]  Hit"
     ],
     "output_type": "stream"
    }
   ],
   "source": [
    "print(\"\\n\\n\\t\\tLeast Recently Used Page Replacement Algorithm: \")\n",
    "lru_algo_faults = least_recently_used(TOTAL_FRAMES, reference_string)"
   ],
   "metadata": {
    "collapsed": false,
    "pycharm": {
     "name": "#%%\n",
     "is_executing": false
    }
   }
  },
  {
   "cell_type": "code",
   "execution_count": 10,
   "outputs": [
    {
     "name": "stdout",
     "text": [
      "\n\n\t\t\tTotal Optimal Page Faults : 4.\n\t\t\tTotal Least Recently Used Faults : 4.\n"
     ],
     "output_type": "stream"
    }
   ],
   "source": [
    "print(\"\\n\\n\\t\\t\\tTotal Optimal Page Faults : %d.\" % optimal_algo_faults, end=\"\")\n",
    "print(\"\\n\\t\\t\\tTotal Least Recently Used Faults : %d.\" % lru_algo_faults)"
   ],
   "metadata": {
    "collapsed": false,
    "pycharm": {
     "name": "#%%\n",
     "is_executing": false
    }
   }
  },
  {
   "cell_type": "code",
   "execution_count": 11,
   "outputs": [
    {
     "name": "stdout",
     "text": [
      "\n\nIt was a tie! The Optimal and Least Recently Used Page Replacement Algorithms Were Equal\nThe Tie Breaker will be settled with the First In First Out algorithm\n\n\n\t\tFirst In First Out Page Replacement Algorithm: \n\n1 -> [ 1 ] [ - ] [ - ]  Miss\n2 -> [ 1 ] [ 2 ] [ - ]  Miss\n2 -> [ 1 ] [ 2 ] [ - ]  Hit\n3 -> [ 1 ] [ 2 ] [ 3 ]  Miss\n1 -> [ 1 ] [ 2 ] [ 3 ]  Hit\n4 -> [ 4 ] [ 2 ] [ 3 ]  Miss\n4 -> [ 4 ] [ 2 ] [ 3 ]  Hit\n3 -> [ 4 ] [ 2 ] [ 3 ]  Hit\n3 -> [ 4 ] [ 2 ] [ 3 ]  Hit\n3 -> [ 4 ] [ 2 ] [ 3 ]  Hit\n\n\t\t\tTotal First in First Out Page Faults : 4.\n\n\n\t\tFirst In First Out was less than LRU and Optimal Page Replacement\n"
     ],
     "output_type": "stream"
    }
   ],
   "source": [
    "if optimal_algo_faults == lru_algo_faults:\n",
    "    print(\n",
    "        \"\\n\\nIt was a tie! The Optimal and Least Recently Used Page Replacement Algorithms Were Equal\"\n",
    "    )\n",
    "    print(\"The Tie Breaker will be settled with the First In First Out algorithm\")\n",
    "\n",
    "    print(\"\\n\\n\\t\\tFirst In First Out Page Replacement Algorithm: \")\n",
    "    fifo_algo_faults = first_in_first_out(TOTAL_FRAMES, reference_string)\n",
    "\n",
    "    print(\"\\n\\n\\t\\t\\tTotal First in First Out Page Faults : %d.\" % lru_algo_faults)\n",
    "\n",
    "    if fifo_algo_faults < lru_algo_faults:\n",
    "        print(\"\\n\\n\\t\\tFirst In First Out Lost to LRU and Optimal\")\n",
    "    else:\n",
    "        print(\n",
    "            \"\\n\\n\\t\\tFirst In First Out was less than LRU and Optimal Page Replacement\"\n",
    "        )\n",
    "else:\n",
    "    print(\"\\n\\n\\t\\tOptimal Page Replacement Algorithm was the most efficient. \")\n",
    "\n",
    "\n",
    "\n"
   ],
   "metadata": {
    "collapsed": false,
    "pycharm": {
     "name": "#%%\n",
     "is_executing": false
    }
   }
  }
 ],
 "metadata": {
  "language_info": {
   "codemirror_mode": {
    "name": "ipython",
    "version": 2
   },
   "file_extension": ".py",
   "mimetype": "text/x-python",
   "name": "python",
   "nbconvert_exporter": "python",
   "pygments_lexer": "ipython2",
   "version": "2.7.6"
  },
  "kernelspec": {
   "name": "python3",
   "language": "python",
   "display_name": "Python 3"
  },
  "pycharm": {
   "stem_cell": {
    "cell_type": "raw",
    "source": [],
    "metadata": {
     "collapsed": false
    }
   }
  }
 },
 "nbformat": 4,
 "nbformat_minor": 0
}